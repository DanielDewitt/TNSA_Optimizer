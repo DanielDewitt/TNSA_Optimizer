{
 "cells": [
  {
   "cell_type": "code",
   "execution_count": null,
   "id": "initial_id",
   "metadata": {
    "collapsed": true
   },
   "outputs": [],
   "source": [
    "%load_ext autoreload\n",
    "%autoreload 2\n",
    "\n",
    "import pickle\n",
    "import surrogates\n",
    "import torch\n",
    "import custom_loss\n",
    "import numpy as np\n",
    "\n",
    "batch_size = 1000\n",
    "learning_rate = 0.001\n",
    "\n",
    "file_open = open(\"Archive/pickles/export/model005_rev2.pickle\", \"rb\")\n",
    "model005 = pickle.load(file_open)\n",
    "file_open.close()\n",
    "\n",
    "training_data = surrogates.dir_to_dataset_list(\"Archive/LIGHTbeams/Trial0_Training_Data/training/240605\")\n",
    "test_data = surrogates.dir_to_dataset_list(\"Archive/LIGHTbeams/Trial0_Training_Data/test/240614_xy_divergence\", [9.999999993673508e-13, 9.999999993673508e-13, 9.999999993673508e-13, 8909239.51048443, 8896262.343198072, 64026263.69728826, 14.999999999999854], [0.07125033558156368, 0.07125340889245838, 2.61519447482496e-08, 10878660.62616183, 10780162.546653992, 64027582.0133755, 14.994999999999788])\n",
    "\n",
    "train_dataloader = torch.utils.data.DataLoader(training_data, batch_size=batch_size, shuffle=True)\n",
    "test_dataloader = torch.utils.data.DataLoader(test_data, batch_size=batch_size, shuffle=True)\n",
    "\n",
    "test_error_list = surrogates.ErrorList(\"Archive/240613_model_tuning/model005/starting_data/model005_rev2_errors_5x16_eps.npy\")\n",
    "\n",
    "loss_fn = custom_loss.WMSELoss()\n",
    "loss_fn.weight = torch.tensor([0.4537, 0.5610, 0.4379, 0.7643, 0.4790, 1.0000])\n"
   ]
  },
  {
   "cell_type": "code",
   "outputs": [],
   "source": [
    "\n",
    "surrogates.train_existing_model(model=model005, train_dataloader=train_dataloader, test_dataloader=test_dataloader, \n",
    "                                loss_fn=loss_fn, error_class=test_error_list, epochs=2, epochs_epochs=2, \n",
    "                                lr=learning_rate, bs=batch_size)\n",
    "\n"
   ],
   "metadata": {
    "collapsed": false
   },
   "id": "187a1805faaada25",
   "execution_count": null
  },
  {
   "cell_type": "code",
   "outputs": [
    {
     "name": "stdout",
     "output_type": "stream",
     "text": [
      "The autoreload extension is already loaded. To reload it, use:\n",
      "  %reload_ext autoreload\n",
      "Not a .npy file: untitled folder\n",
      "Not a .npy file: .DS_Store\n",
      "Total particle count: 5000\n",
      "Working on file # 0\n",
      "Not a .npy file: untitled folder\n",
      "Not a .npy file: .DS_Store\n",
      "Creating dataset object.\n",
      "[[-1.29721124e-04  1.98838576e-04  5.36582897e-04 ... -4.45574089e-04\n",
      "   1.31531317e-04 -4.56448725e-04]\n",
      " [-1.76232652e-05 -1.14250418e-04  1.40068956e-04 ... -1.91248354e-04\n",
      "   5.59624220e-04  2.94775893e-04]\n",
      " [-1.29721124e+06  1.98838576e+06  5.36582897e+06 ... -4.45574089e+06\n",
      "   1.31531317e+06 -4.56448725e+06]\n",
      " [-1.76232652e+05 -1.14250418e+06  1.40068956e+06 ... -1.91248354e+06\n",
      "   5.59624220e+06  2.94775893e+06]\n",
      " [ 4.43995438e+07  4.24623358e+07  4.40433052e+07 ...  4.31804124e+07\n",
      "   4.32463914e+07  4.42592887e+07]\n",
      " [ 1.07600000e+01  1.07600000e+01  1.07600000e+01 ...  1.07600000e+01\n",
      "   1.07600000e+01  1.07600000e+01]]\n",
      "In und out arrays fertig.\n",
      "Mean und STD Berechnung fertig. For loops kommen.\n",
      "For Loop 1 fertig\n",
      "(tensor([-0.4047, -0.0551, -0.4047, -0.0551,  1.7227, -1.0000]), tensor([-0.1471,  0.6517,  0.0678, -0.3200]))\n",
      "Elapsed time: 0.0\n"
     ]
    }
   ],
   "source": [
    "%load_ext autoreload\n",
    "%autoreload 2\n",
    "\n",
    "import pickle\n",
    "import surrogates\n",
    "import torch\n",
    "from torch import nn\n",
    "import custom_loss\n",
    "import numpy as np\n",
    "import datasets\n",
    "import surrogates_000\n",
    "\n",
    "batch_size = 1000\n",
    "learning_rate = 1e-3\n",
    "\n",
    "in_mean = [5.361699624411882e-06, 2.8099847552459577e-06, -103.46455517652929, -54.22419067092724, 31384166.415799182, 7.5488486842097995]\n",
    "out_mean = [1.2208464887686063e-06, 6.857339420669208e-06, 88.5449769771143, 580.5235916625553]\n",
    "in_std = [0.013987608190429593, 0.01398283932581212, 874752.0124925484, 874453.7368016029, 10528205.536358843, 4.366550900490813]\n",
    "out_std = [0.02555778670122864, 0.025553795813075042, 2215196.2727785874, 2214642.635136461]\n",
    "\n",
    "transverse_training_data = datasets.dir_to_tdataset_list_nc(\"Archive/optimization\", in_mean, out_mean, in_std, out_std)\n",
    "#transverse_test_data = datasets.dir_to_tdataset_list(\"Archive/LIGHTbeams/Trial1/test/240727\")\n",
    "\n",
    "transverse_training_dataloader = torch.utils.data.DataLoader(transverse_training_data, batch_size=batch_size, shuffle=True)\n",
    "#transverse_test_dataloader = torch.utils.data.DataLoader(transverse_test_data, batch_size=batch_size, shuffle=True)\n",
    "\n",
    "#loss_fn = nn.MSELoss()\n",
    "#model = surrogates_000.TSolenoidSurrogate()\n"
   ],
   "metadata": {
    "collapsed": false,
    "ExecuteTime": {
     "end_time": "2024-08-23T19:44:56.793212Z",
     "start_time": "2024-08-23T19:44:56.693911Z"
    }
   },
   "id": "2d17a36ca72ddc6",
   "execution_count": 512
  },
  {
   "cell_type": "code",
   "outputs": [
    {
     "name": "stdout",
     "output_type": "stream",
     "text": [
      "(tensor([ 6.6671e-03,  3.4304e-03, -3.6382e-13, -1.8720e-13,  4.0296e+07,\n",
      "         1.3180e+01]), tensor([-1.2053e-03,  2.4551e-02, -1.8298e+05,  3.4492e+06]))\n"
     ]
    }
   ],
   "source": [
    "print(transverse_training_data.__getitem__(100))"
   ],
   "metadata": {
    "collapsed": false,
    "ExecuteTime": {
     "end_time": "2024-08-23T14:40:00.052304Z",
     "start_time": "2024-08-23T14:40:00.038071Z"
    }
   },
   "id": "1679507369875b0a",
   "execution_count": 51
  },
  {
   "cell_type": "code",
   "outputs": [],
   "source": [
    "import pickle\n",
    "\n",
    "file = open(\"Archive/pickles/export/shard_tedata_optimization.pickle\", \"wb\")\n",
    "pickle.dump(transverse_training_data, file)\n",
    "file.close()"
   ],
   "metadata": {
    "collapsed": false,
    "ExecuteTime": {
     "end_time": "2024-08-23T19:45:05.791944Z",
     "start_time": "2024-08-23T19:45:05.771737Z"
    }
   },
   "id": "dd97220d406802bf",
   "execution_count": 513
  },
  {
   "cell_type": "code",
   "outputs": [],
   "source": [
    "%load_ext autoreload\n",
    "%autoreload 2\n",
    "\n",
    "import surrogates\n",
    "import datasets\n",
    "\n",
    "datasets.divide_and_shuffle(\"Archive/LIGHTbeams/Trial1/training/raw_data/240815\", \"Archive/LIGHTbeams/Trial1/training/shards\",11000000)"
   ],
   "metadata": {
    "collapsed": false
   },
   "id": "ea3b6fdccefbc071",
   "execution_count": null
  },
  {
   "cell_type": "code",
   "outputs": [],
   "source": [
    "import pickle\n",
    "import torch\n",
    "\n",
    "file_open = open(\"/notebooks/model_007_rev1.pickle\", \"rb\")\n",
    "error_model = pickle.load(file_open)\n",
    "file_open.close()\n",
    "\n",
    "error_model.to(\"cpu\")\n",
    "\n",
    "file = open(\"/notebooks/model_007_rev1_cpu.pickle\", \"wb\")\n",
    "pickle.dump(transverse_training_data, file)\n",
    "file.close()"
   ],
   "metadata": {
    "collapsed": false
   },
   "id": "dec7560bff5515d0",
   "execution_count": null
  },
  {
   "cell_type": "code",
   "outputs": [],
   "source": [
    "import pickle\n",
    "import torch\n",
    "import datasets\n",
    "import surrogates_000\n",
    "\n",
    "%load_ext autoreload\n",
    "%autoreload 2\n",
    "\n",
    "\n",
    "batch_size = 1\n",
    "\n",
    "file_open = open(\"Archive/pickles/models/model_009_ep54_cpu.pickle\", \"rb\")\n",
    "error_model = pickle.load(file_open)\n",
    "file_open.close()\n",
    "\n",
    "print(\"model loaded\")\n",
    "\n",
    "file_open = open(\"Archive/pickles/export/shard_tedata_trial1.pickle\", \"rb\")\n",
    "error_test_data = pickle.load(file_open)\n",
    "file_open.close()\n",
    "\n",
    "print(\"test data loaded\")\n",
    "\n",
    "error_test_dataloader = torch.utils.data.DataLoader(error_test_data, batch_size=batch_size, shuffle=True)\n",
    "\n",
    "print(\"starting with error computation\")\n",
    "\n",
    "error_mean_array = datasets.tr_mean_max_error(error_model, error_test_dataloader)"
   ],
   "metadata": {
    "collapsed": false
   },
   "id": "9a66321c01ddddd7",
   "execution_count": null
  },
  {
   "cell_type": "code",
   "outputs": [
    {
     "name": "stdout",
     "output_type": "stream",
     "text": [
      "tensor([ 7.1400e-01,  2.7051e+00, -5.4131e-04,  2.4308e-04,  2.6373e+00,\n",
      "        -3.4153e-01])\n",
      "tensor([ 3.9070e-01,  1.4835e+00, -2.3940e-05,  3.9538e-04])\n",
      "tensor([ 3.8425e-01,  1.4794e+00, -6.2446e-03,  2.2108e-04],\n",
      "       grad_fn=<ViewBackward0>)\n"
     ]
    }
   ],
   "source": [
    "import time\n",
    "\n",
    "#indx = 9\n",
    "#indx = 48\n",
    "#indx = 340\n",
    "#indx = 518\n",
    "#indx = 4\n",
    "indx = 192\n",
    "\n",
    "print(error_test_data.__getitem__(indx)[0])\n",
    "print(error_test_data.__getitem__(indx)[1])\n",
    "print(error_model(error_test_data.__getitem__(indx)[0]))\n",
    "\n",
    "#for indx in range(3300000):\n",
    "#    time.sleep(0.1)\n",
    "#    print(indx)\n",
    "#    print((error_model(error_test_data.__getitem__(indx)[0])[2]-error_test_data.__getitem__(indx)[1][2])#/error_test_data.__getitem__(indx)[1][2])"
   ],
   "metadata": {
    "collapsed": false,
    "ExecuteTime": {
     "end_time": "2024-08-20T10:50:12.369276Z",
     "start_time": "2024-08-20T10:50:12.342082Z"
    }
   },
   "id": "1559c32f9af8e6f6",
   "execution_count": 4
  },
  {
   "cell_type": "code",
   "outputs": [
    {
     "ename": "RuntimeError",
     "evalue": "ArrayRef: invalid index Index = 18446744073709551615; Length = 0",
     "output_type": "error",
     "traceback": [
      "\u001B[0;31m---------------------------------------------------------------------------\u001B[0m",
      "\u001B[0;31mRuntimeError\u001B[0m                              Traceback (most recent call last)",
      "Cell \u001B[0;32mIn[3], line 1\u001B[0m\n\u001B[0;32m----> 1\u001B[0m \u001B[43merror_model\u001B[49m\u001B[43m(\u001B[49m\u001B[43merror_test_data\u001B[49m\u001B[38;5;241;43m.\u001B[39;49m\u001B[38;5;21;43m__getitem__\u001B[39;49m\u001B[43m(\u001B[49m\u001B[43mindx\u001B[49m\u001B[43m)\u001B[49m\u001B[43m[\u001B[49m\u001B[38;5;241;43m0\u001B[39;49m\u001B[43m]\u001B[49m\u001B[43m[\u001B[49m\u001B[38;5;241;43m0\u001B[39;49m\u001B[43m]\u001B[49m\u001B[43m)\u001B[49m\n",
      "File \u001B[0;32m/opt/anaconda3/envs/TNSA_Optimizer/lib/python3.11/site-packages/torch/nn/modules/module.py:1518\u001B[0m, in \u001B[0;36mModule._wrapped_call_impl\u001B[0;34m(self, *args, **kwargs)\u001B[0m\n\u001B[1;32m   1516\u001B[0m     \u001B[38;5;28;01mreturn\u001B[39;00m \u001B[38;5;28mself\u001B[39m\u001B[38;5;241m.\u001B[39m_compiled_call_impl(\u001B[38;5;241m*\u001B[39margs, \u001B[38;5;241m*\u001B[39m\u001B[38;5;241m*\u001B[39mkwargs)  \u001B[38;5;66;03m# type: ignore[misc]\u001B[39;00m\n\u001B[1;32m   1517\u001B[0m \u001B[38;5;28;01melse\u001B[39;00m:\n\u001B[0;32m-> 1518\u001B[0m     \u001B[38;5;28;01mreturn\u001B[39;00m \u001B[38;5;28;43mself\u001B[39;49m\u001B[38;5;241;43m.\u001B[39;49m\u001B[43m_call_impl\u001B[49m\u001B[43m(\u001B[49m\u001B[38;5;241;43m*\u001B[39;49m\u001B[43margs\u001B[49m\u001B[43m,\u001B[49m\u001B[43m \u001B[49m\u001B[38;5;241;43m*\u001B[39;49m\u001B[38;5;241;43m*\u001B[39;49m\u001B[43mkwargs\u001B[49m\u001B[43m)\u001B[49m\n",
      "File \u001B[0;32m/opt/anaconda3/envs/TNSA_Optimizer/lib/python3.11/site-packages/torch/nn/modules/module.py:1527\u001B[0m, in \u001B[0;36mModule._call_impl\u001B[0;34m(self, *args, **kwargs)\u001B[0m\n\u001B[1;32m   1522\u001B[0m \u001B[38;5;66;03m# If we don't have any hooks, we want to skip the rest of the logic in\u001B[39;00m\n\u001B[1;32m   1523\u001B[0m \u001B[38;5;66;03m# this function, and just call forward.\u001B[39;00m\n\u001B[1;32m   1524\u001B[0m \u001B[38;5;28;01mif\u001B[39;00m \u001B[38;5;129;01mnot\u001B[39;00m (\u001B[38;5;28mself\u001B[39m\u001B[38;5;241m.\u001B[39m_backward_hooks \u001B[38;5;129;01mor\u001B[39;00m \u001B[38;5;28mself\u001B[39m\u001B[38;5;241m.\u001B[39m_backward_pre_hooks \u001B[38;5;129;01mor\u001B[39;00m \u001B[38;5;28mself\u001B[39m\u001B[38;5;241m.\u001B[39m_forward_hooks \u001B[38;5;129;01mor\u001B[39;00m \u001B[38;5;28mself\u001B[39m\u001B[38;5;241m.\u001B[39m_forward_pre_hooks\n\u001B[1;32m   1525\u001B[0m         \u001B[38;5;129;01mor\u001B[39;00m _global_backward_pre_hooks \u001B[38;5;129;01mor\u001B[39;00m _global_backward_hooks\n\u001B[1;32m   1526\u001B[0m         \u001B[38;5;129;01mor\u001B[39;00m _global_forward_hooks \u001B[38;5;129;01mor\u001B[39;00m _global_forward_pre_hooks):\n\u001B[0;32m-> 1527\u001B[0m     \u001B[38;5;28;01mreturn\u001B[39;00m \u001B[43mforward_call\u001B[49m\u001B[43m(\u001B[49m\u001B[38;5;241;43m*\u001B[39;49m\u001B[43margs\u001B[49m\u001B[43m,\u001B[49m\u001B[43m \u001B[49m\u001B[38;5;241;43m*\u001B[39;49m\u001B[38;5;241;43m*\u001B[39;49m\u001B[43mkwargs\u001B[49m\u001B[43m)\u001B[49m\n\u001B[1;32m   1529\u001B[0m \u001B[38;5;28;01mtry\u001B[39;00m:\n\u001B[1;32m   1530\u001B[0m     result \u001B[38;5;241m=\u001B[39m \u001B[38;5;28;01mNone\u001B[39;00m\n",
      "File \u001B[0;32m~/Desktop/Simulationen/git/TNSA_Optimizer/TNSA_Optimizer/surrogates_000.py:52\u001B[0m, in \u001B[0;36mTSolenoidSurrogate.forward\u001B[0;34m(self, x)\u001B[0m\n\u001B[1;32m     51\u001B[0m \u001B[38;5;28;01mdef\u001B[39;00m \u001B[38;5;21mforward\u001B[39m(\u001B[38;5;28mself\u001B[39m, x):\n\u001B[0;32m---> 52\u001B[0m     logits \u001B[38;5;241m=\u001B[39m \u001B[38;5;28;43mself\u001B[39;49m\u001B[38;5;241;43m.\u001B[39;49m\u001B[43mlinear_relu_stack\u001B[49m\u001B[43m(\u001B[49m\u001B[43mx\u001B[49m\u001B[43m)\u001B[49m\n\u001B[1;32m     53\u001B[0m     \u001B[38;5;28;01mreturn\u001B[39;00m logits\n",
      "File \u001B[0;32m/opt/anaconda3/envs/TNSA_Optimizer/lib/python3.11/site-packages/torch/nn/modules/module.py:1518\u001B[0m, in \u001B[0;36mModule._wrapped_call_impl\u001B[0;34m(self, *args, **kwargs)\u001B[0m\n\u001B[1;32m   1516\u001B[0m     \u001B[38;5;28;01mreturn\u001B[39;00m \u001B[38;5;28mself\u001B[39m\u001B[38;5;241m.\u001B[39m_compiled_call_impl(\u001B[38;5;241m*\u001B[39margs, \u001B[38;5;241m*\u001B[39m\u001B[38;5;241m*\u001B[39mkwargs)  \u001B[38;5;66;03m# type: ignore[misc]\u001B[39;00m\n\u001B[1;32m   1517\u001B[0m \u001B[38;5;28;01melse\u001B[39;00m:\n\u001B[0;32m-> 1518\u001B[0m     \u001B[38;5;28;01mreturn\u001B[39;00m \u001B[38;5;28;43mself\u001B[39;49m\u001B[38;5;241;43m.\u001B[39;49m\u001B[43m_call_impl\u001B[49m\u001B[43m(\u001B[49m\u001B[38;5;241;43m*\u001B[39;49m\u001B[43margs\u001B[49m\u001B[43m,\u001B[49m\u001B[43m \u001B[49m\u001B[38;5;241;43m*\u001B[39;49m\u001B[38;5;241;43m*\u001B[39;49m\u001B[43mkwargs\u001B[49m\u001B[43m)\u001B[49m\n",
      "File \u001B[0;32m/opt/anaconda3/envs/TNSA_Optimizer/lib/python3.11/site-packages/torch/nn/modules/module.py:1527\u001B[0m, in \u001B[0;36mModule._call_impl\u001B[0;34m(self, *args, **kwargs)\u001B[0m\n\u001B[1;32m   1522\u001B[0m \u001B[38;5;66;03m# If we don't have any hooks, we want to skip the rest of the logic in\u001B[39;00m\n\u001B[1;32m   1523\u001B[0m \u001B[38;5;66;03m# this function, and just call forward.\u001B[39;00m\n\u001B[1;32m   1524\u001B[0m \u001B[38;5;28;01mif\u001B[39;00m \u001B[38;5;129;01mnot\u001B[39;00m (\u001B[38;5;28mself\u001B[39m\u001B[38;5;241m.\u001B[39m_backward_hooks \u001B[38;5;129;01mor\u001B[39;00m \u001B[38;5;28mself\u001B[39m\u001B[38;5;241m.\u001B[39m_backward_pre_hooks \u001B[38;5;129;01mor\u001B[39;00m \u001B[38;5;28mself\u001B[39m\u001B[38;5;241m.\u001B[39m_forward_hooks \u001B[38;5;129;01mor\u001B[39;00m \u001B[38;5;28mself\u001B[39m\u001B[38;5;241m.\u001B[39m_forward_pre_hooks\n\u001B[1;32m   1525\u001B[0m         \u001B[38;5;129;01mor\u001B[39;00m _global_backward_pre_hooks \u001B[38;5;129;01mor\u001B[39;00m _global_backward_hooks\n\u001B[1;32m   1526\u001B[0m         \u001B[38;5;129;01mor\u001B[39;00m _global_forward_hooks \u001B[38;5;129;01mor\u001B[39;00m _global_forward_pre_hooks):\n\u001B[0;32m-> 1527\u001B[0m     \u001B[38;5;28;01mreturn\u001B[39;00m \u001B[43mforward_call\u001B[49m\u001B[43m(\u001B[49m\u001B[38;5;241;43m*\u001B[39;49m\u001B[43margs\u001B[49m\u001B[43m,\u001B[49m\u001B[43m \u001B[49m\u001B[38;5;241;43m*\u001B[39;49m\u001B[38;5;241;43m*\u001B[39;49m\u001B[43mkwargs\u001B[49m\u001B[43m)\u001B[49m\n\u001B[1;32m   1529\u001B[0m \u001B[38;5;28;01mtry\u001B[39;00m:\n\u001B[1;32m   1530\u001B[0m     result \u001B[38;5;241m=\u001B[39m \u001B[38;5;28;01mNone\u001B[39;00m\n",
      "File \u001B[0;32m/opt/anaconda3/envs/TNSA_Optimizer/lib/python3.11/site-packages/torch/nn/modules/container.py:215\u001B[0m, in \u001B[0;36mSequential.forward\u001B[0;34m(self, input)\u001B[0m\n\u001B[1;32m    213\u001B[0m \u001B[38;5;28;01mdef\u001B[39;00m \u001B[38;5;21mforward\u001B[39m(\u001B[38;5;28mself\u001B[39m, \u001B[38;5;28minput\u001B[39m):\n\u001B[1;32m    214\u001B[0m     \u001B[38;5;28;01mfor\u001B[39;00m module \u001B[38;5;129;01min\u001B[39;00m \u001B[38;5;28mself\u001B[39m:\n\u001B[0;32m--> 215\u001B[0m         \u001B[38;5;28minput\u001B[39m \u001B[38;5;241m=\u001B[39m \u001B[43mmodule\u001B[49m\u001B[43m(\u001B[49m\u001B[38;5;28;43minput\u001B[39;49m\u001B[43m)\u001B[49m\n\u001B[1;32m    216\u001B[0m     \u001B[38;5;28;01mreturn\u001B[39;00m \u001B[38;5;28minput\u001B[39m\n",
      "File \u001B[0;32m/opt/anaconda3/envs/TNSA_Optimizer/lib/python3.11/site-packages/torch/nn/modules/module.py:1518\u001B[0m, in \u001B[0;36mModule._wrapped_call_impl\u001B[0;34m(self, *args, **kwargs)\u001B[0m\n\u001B[1;32m   1516\u001B[0m     \u001B[38;5;28;01mreturn\u001B[39;00m \u001B[38;5;28mself\u001B[39m\u001B[38;5;241m.\u001B[39m_compiled_call_impl(\u001B[38;5;241m*\u001B[39margs, \u001B[38;5;241m*\u001B[39m\u001B[38;5;241m*\u001B[39mkwargs)  \u001B[38;5;66;03m# type: ignore[misc]\u001B[39;00m\n\u001B[1;32m   1517\u001B[0m \u001B[38;5;28;01melse\u001B[39;00m:\n\u001B[0;32m-> 1518\u001B[0m     \u001B[38;5;28;01mreturn\u001B[39;00m \u001B[38;5;28;43mself\u001B[39;49m\u001B[38;5;241;43m.\u001B[39;49m\u001B[43m_call_impl\u001B[49m\u001B[43m(\u001B[49m\u001B[38;5;241;43m*\u001B[39;49m\u001B[43margs\u001B[49m\u001B[43m,\u001B[49m\u001B[43m \u001B[49m\u001B[38;5;241;43m*\u001B[39;49m\u001B[38;5;241;43m*\u001B[39;49m\u001B[43mkwargs\u001B[49m\u001B[43m)\u001B[49m\n",
      "File \u001B[0;32m/opt/anaconda3/envs/TNSA_Optimizer/lib/python3.11/site-packages/torch/nn/modules/module.py:1527\u001B[0m, in \u001B[0;36mModule._call_impl\u001B[0;34m(self, *args, **kwargs)\u001B[0m\n\u001B[1;32m   1522\u001B[0m \u001B[38;5;66;03m# If we don't have any hooks, we want to skip the rest of the logic in\u001B[39;00m\n\u001B[1;32m   1523\u001B[0m \u001B[38;5;66;03m# this function, and just call forward.\u001B[39;00m\n\u001B[1;32m   1524\u001B[0m \u001B[38;5;28;01mif\u001B[39;00m \u001B[38;5;129;01mnot\u001B[39;00m (\u001B[38;5;28mself\u001B[39m\u001B[38;5;241m.\u001B[39m_backward_hooks \u001B[38;5;129;01mor\u001B[39;00m \u001B[38;5;28mself\u001B[39m\u001B[38;5;241m.\u001B[39m_backward_pre_hooks \u001B[38;5;129;01mor\u001B[39;00m \u001B[38;5;28mself\u001B[39m\u001B[38;5;241m.\u001B[39m_forward_hooks \u001B[38;5;129;01mor\u001B[39;00m \u001B[38;5;28mself\u001B[39m\u001B[38;5;241m.\u001B[39m_forward_pre_hooks\n\u001B[1;32m   1525\u001B[0m         \u001B[38;5;129;01mor\u001B[39;00m _global_backward_pre_hooks \u001B[38;5;129;01mor\u001B[39;00m _global_backward_hooks\n\u001B[1;32m   1526\u001B[0m         \u001B[38;5;129;01mor\u001B[39;00m _global_forward_hooks \u001B[38;5;129;01mor\u001B[39;00m _global_forward_pre_hooks):\n\u001B[0;32m-> 1527\u001B[0m     \u001B[38;5;28;01mreturn\u001B[39;00m \u001B[43mforward_call\u001B[49m\u001B[43m(\u001B[49m\u001B[38;5;241;43m*\u001B[39;49m\u001B[43margs\u001B[49m\u001B[43m,\u001B[49m\u001B[43m \u001B[49m\u001B[38;5;241;43m*\u001B[39;49m\u001B[38;5;241;43m*\u001B[39;49m\u001B[43mkwargs\u001B[49m\u001B[43m)\u001B[49m\n\u001B[1;32m   1529\u001B[0m \u001B[38;5;28;01mtry\u001B[39;00m:\n\u001B[1;32m   1530\u001B[0m     result \u001B[38;5;241m=\u001B[39m \u001B[38;5;28;01mNone\u001B[39;00m\n",
      "File \u001B[0;32m/opt/anaconda3/envs/TNSA_Optimizer/lib/python3.11/site-packages/torch/nn/modules/linear.py:114\u001B[0m, in \u001B[0;36mLinear.forward\u001B[0;34m(self, input)\u001B[0m\n\u001B[1;32m    113\u001B[0m \u001B[38;5;28;01mdef\u001B[39;00m \u001B[38;5;21mforward\u001B[39m(\u001B[38;5;28mself\u001B[39m, \u001B[38;5;28minput\u001B[39m: Tensor) \u001B[38;5;241m-\u001B[39m\u001B[38;5;241m>\u001B[39m Tensor:\n\u001B[0;32m--> 114\u001B[0m     \u001B[38;5;28;01mreturn\u001B[39;00m \u001B[43mF\u001B[49m\u001B[38;5;241;43m.\u001B[39;49m\u001B[43mlinear\u001B[49m\u001B[43m(\u001B[49m\u001B[38;5;28;43minput\u001B[39;49m\u001B[43m,\u001B[49m\u001B[43m \u001B[49m\u001B[38;5;28;43mself\u001B[39;49m\u001B[38;5;241;43m.\u001B[39;49m\u001B[43mweight\u001B[49m\u001B[43m,\u001B[49m\u001B[43m \u001B[49m\u001B[38;5;28;43mself\u001B[39;49m\u001B[38;5;241;43m.\u001B[39;49m\u001B[43mbias\u001B[49m\u001B[43m)\u001B[49m\n",
      "\u001B[0;31mRuntimeError\u001B[0m: ArrayRef: invalid index Index = 18446744073709551615; Length = 0"
     ]
    }
   ],
   "source": [
    "error_model(error_test_data.__getitem__(indx)[0][0])"
   ],
   "metadata": {
    "collapsed": false,
    "ExecuteTime": {
     "end_time": "2024-08-20T10:50:08.807368Z",
     "start_time": "2024-08-20T10:50:08.734474Z"
    }
   },
   "id": "dea9cb0d256ac4dc",
   "execution_count": 3
  },
  {
   "cell_type": "code",
   "outputs": [],
   "source": [
    "print(error_test_data.in_mean_list)"
   ],
   "metadata": {
    "collapsed": false
   },
   "id": "dec2877f3b4b1d96",
   "execution_count": null
  },
  {
   "cell_type": "code",
   "outputs": [],
   "source": [
    "file_open = open(\"Archive/pickles/export/model006_trdata.pickle\", \"rb\")\n",
    "transverse_training_data = pickle.load(file_open)\n",
    "file_open.close()\n",
    "\n",
    "transverse_training_dataloader = torch.utils.data.DataLoader(transverse_training_data, batch_size=batch_size, shuffle=True)"
   ],
   "metadata": {
    "collapsed": false
   },
   "id": "37704e71418a13ef",
   "execution_count": null
  },
  {
   "cell_type": "code",
   "outputs": [],
   "source": [
    "datasets.train_existing_model(model=model, train_dataloader=transverse_training_dataloader,test_dataloader=transverse_test_dataloader, loss_fn=loss_fn, error_class=test_error_list, epochs=2, epochs_epochs=5, lr=learning_rate, bs=batch_size)"
   ],
   "metadata": {
    "collapsed": false
   },
   "id": "15e9d36fbdfcfdb7",
   "execution_count": null
  },
  {
   "cell_type": "code",
   "outputs": [],
   "source": [
    "datasets.train_existing_model(model=model, train_dataloader=transverse_training_dataloader,test_dataloader=transverse_test_dataloader, loss_fn=loss_fn, error_class=test_error_list, epochs=2, epochs_epochs=5, lr=1e-7, bs=batch_size)"
   ],
   "metadata": {
    "collapsed": false
   },
   "id": "5f831d3c5c4e4960",
   "execution_count": null
  },
  {
   "cell_type": "code",
   "outputs": [],
   "source": [
    "\n",
    "zahl = 430000\n",
    "\n",
    "sum_x = 0\n",
    "sum_y = 0\n",
    "sum_px = 0\n",
    "sum_py = 0\n",
    "\n",
    "for x, y in transverse_training_data:\n",
    "    diff = y-model(x)\n",
    "    quot= abs(diff/y)\n",
    "    print(quot[0])\n",
    "\n",
    "#print(model(transverse_test_data.__getitem__(zahl)[0]))"
   ],
   "metadata": {
    "collapsed": false
   },
   "id": "b6ac93cfe9e870c",
   "execution_count": null
  },
  {
   "cell_type": "code",
   "outputs": [],
   "source": [
    "\n",
    "for i in range(transverse_test_data.__len__()):\n",
    "    print(i)\n",
    "    #print(transverse_test_data.__getitem__(i)[1])\n",
    "    #print(model(transverse_test_data.__getitem__(i)[0]))\n",
    "    tempor = abs((transverse_test_data.__getitem__(i)[1]-model(transverse_test_data.__getitem__(i)[0]))/transverse_test_data.__getitem__(i)[1])\n",
    "    print(tempor[0])\n",
    "\n"
   ],
   "metadata": {
    "collapsed": false
   },
   "id": "2f3d1d3d70778a99",
   "execution_count": null
  },
  {
   "cell_type": "code",
   "outputs": [],
   "source": [],
   "metadata": {
    "collapsed": false
   },
   "id": "12e60efccb9d3897",
   "execution_count": null
  },
  {
   "cell_type": "code",
   "outputs": [
    {
     "name": "stdout",
     "output_type": "stream",
     "text": [
      "[-8.00000000e-01 -6.00000000e-01 -4.00000000e-01 -2.00000000e-01\n",
      " -2.22044605e-16  2.00000000e-01  4.00000000e-01  6.00000000e-01\n",
      "  8.00000000e-01  1.00000000e+00]\n"
     ]
    }
   ],
   "source": [
    "import numpy as np\n",
    "\n",
    "t = 6*1e-9\n",
    "div_start = -1\n",
    "div_stop = 1\n",
    "div_steps = 10\n",
    "div_step_size = abs((div_stop-div_start)/div_steps)\n",
    "\n",
    "step_vector = np.arange(div_start+div_step_size, div_stop + div_step_size, div_step_size)\n",
    "\n",
    "print(step_vector)"
   ],
   "metadata": {
    "collapsed": false,
    "ExecuteTime": {
     "end_time": "2024-08-20T15:04:34.140550Z",
     "start_time": "2024-08-20T15:04:34.120814Z"
    }
   },
   "id": "98adf9502632ecea",
   "execution_count": 6
  },
  {
   "cell_type": "code",
   "outputs": [],
   "source": [
    "backup_error_list = surrogates.ErrorList(\"Archive/240613_model_tuning/model005/starting_data/model005_rev2_errors_5x16_eps.npy\")"
   ],
   "metadata": {
    "collapsed": false
   },
   "id": "3d7726e3ee122a08",
   "execution_count": null
  },
  {
   "cell_type": "code",
   "outputs": [],
   "source": [
    "backup_error_list.add_plot_points(\"Archive/240613_model_tuning/model005/starting_data/model005_rev5_error_list.npy\")"
   ],
   "metadata": {
    "collapsed": false
   },
   "id": "a501faaab53813e3",
   "execution_count": null
  },
  {
   "cell_type": "code",
   "outputs": [],
   "source": [
    "backup_error_list.add_plot_points(\"Archive/240613_model_tuning/model005/starting_data/model005_rev6_error_list.npy\")"
   ],
   "metadata": {
    "collapsed": false
   },
   "id": "8c8d562f617bc40",
   "execution_count": null
  },
  {
   "cell_type": "code",
   "outputs": [],
   "source": [
    "backup_error_list.add_plot_points(\"Archive/240613_model_tuning/model005/starting_data/model005_rev7_error_list.npy\")"
   ],
   "metadata": {
    "collapsed": false
   },
   "id": "d0c3a12013b7cc38",
   "execution_count": null
  },
  {
   "cell_type": "code",
   "outputs": [],
   "source": [
    "import matplotlib\n",
    "matplotlib.rcParams['figure.figsize'] = (12,8)\n",
    "%config InlineBackend.figure_format = 'retina'\n",
    "\n",
    "backup_error_list.plot_pos_accuracy()"
   ],
   "metadata": {
    "collapsed": false
   },
   "id": "70ced39d1b9d6c95",
   "execution_count": null
  },
  {
   "cell_type": "code",
   "outputs": [],
   "source": [
    "backup_error_list.plot_mom_accuracy()"
   ],
   "metadata": {
    "collapsed": false
   },
   "id": "63e4ac7ab37f8c75",
   "execution_count": null
  },
  {
   "cell_type": "code",
   "outputs": [
    {
     "ename": "TypeError",
     "evalue": "stack(): argument 'tensors' (position 1) must be tuple of Tensors, not Tensor",
     "output_type": "error",
     "traceback": [
      "\u001B[0;31m---------------------------------------------------------------------------\u001B[0m",
      "\u001B[0;31mTypeError\u001B[0m                                 Traceback (most recent call last)",
      "Cell \u001B[0;32mIn[15], line 16\u001B[0m\n\u001B[1;32m     10\u001B[0m vy_vector \u001B[38;5;241m=\u001B[39m test_array[:,\u001B[38;5;241m4\u001B[39m]\n\u001B[1;32m     13\u001B[0m done_array \u001B[38;5;241m=\u001B[39m torch\u001B[38;5;241m.\u001B[39mtranspose(torch\u001B[38;5;241m.\u001B[39mstack([x_vector, y_vector, vx_vector, vy_vector]), \u001B[38;5;241m0\u001B[39m, \u001B[38;5;241m1\u001B[39m)\n\u001B[0;32m---> 16\u001B[0m \u001B[38;5;28mprint\u001B[39m(\u001B[43mtorch\u001B[49m\u001B[38;5;241;43m.\u001B[39;49m\u001B[43mstack\u001B[49m\u001B[43m(\u001B[49m\u001B[43mdone_array\u001B[49m\u001B[43m)\u001B[49m)\n",
      "\u001B[0;31mTypeError\u001B[0m: stack(): argument 'tensors' (position 1) must be tuple of Tensors, not Tensor"
     ]
    }
   ],
   "source": [
    "import numpy as np\n",
    "import torch\n",
    "\n",
    "test_array = torch.from_numpy(np.load(\"Archive/optimization/1000p2_22mev140mrad12kA_optimization.npy\")[:,:6,0])\n",
    "test_array.requires_grad_(True)\n",
    "\n",
    "x_vector = test_array[:,0]\n",
    "y_vector = test_array[:,1]\n",
    "vx_vector = test_array[:, 3]\n",
    "vy_vector = test_array[:,4]\n",
    "\n",
    "\n",
    "done_array = torch.transpose(torch.stack([x_vector, y_vector, vx_vector, vy_vector]), 0, 1)\n",
    "\n",
    "\n",
    "print(torch.stack(done_array))"
   ],
   "metadata": {
    "collapsed": false,
    "ExecuteTime": {
     "end_time": "2024-08-22T21:06:02.588841Z",
     "start_time": "2024-08-22T21:06:02.559295Z"
    }
   },
   "id": "8ec75891147fd199",
   "execution_count": 15
  },
  {
   "cell_type": "code",
   "outputs": [
    {
     "name": "stdout",
     "output_type": "stream",
     "text": [
      "The autoreload extension is already loaded. To reload it, use:\n",
      "  %reload_ext autoreload\n"
     ]
    }
   ],
   "source": [
    "%load_ext autoreload\n",
    "%autoreload 2\n",
    "\n",
    "import suropt\n",
    "test_beam = None\n",
    "test_surrogate = None\n",
    "test_drift = None\n",
    "\n",
    "test_beam = suropt.SurrogateBeam(\"Archive/optimization/1000p9_11mev140mrad12kA_optimization.npy\")\n",
    "\n",
    "test_surrogate = suropt.SolenoidSurrogate(\"Archive/pickles/models/model_009_ep81_cpu.pickle\", 0.5)\n",
    "\n",
    "test_drift = suropt.DriftSection(1, 1000)\n",
    "\n"
   ],
   "metadata": {
    "collapsed": false,
    "ExecuteTime": {
     "end_time": "2024-08-23T08:41:05.123923Z",
     "start_time": "2024-08-23T08:41:05.096367Z"
    }
   },
   "id": "52f9df0e0069d393",
   "execution_count": 84
  },
  {
   "cell_type": "code",
   "outputs": [],
   "source": [
    "import torch\n",
    "\n",
    "input_current = torch.tensor(4, requires_grad=True, dtype=torch.float32)\n",
    "\n",
    "\n",
    "test_surrogate.propagate_beam(test_beam, input_current)"
   ],
   "metadata": {
    "collapsed": false,
    "ExecuteTime": {
     "end_time": "2024-08-23T08:41:05.615768Z",
     "start_time": "2024-08-23T08:41:05.524114Z"
    }
   },
   "id": "329d3003b9f76b60",
   "execution_count": 85
  },
  {
   "cell_type": "code",
   "outputs": [],
   "source": [
    "#test_drift.propagate_beam(test_beam)"
   ],
   "metadata": {
    "collapsed": false,
    "ExecuteTime": {
     "end_time": "2024-08-23T08:41:05.833734Z",
     "start_time": "2024-08-23T08:41:05.802187Z"
    }
   },
   "id": "a96b356fa65ce0b2",
   "execution_count": 86
  },
  {
   "cell_type": "code",
   "outputs": [
    {
     "data": {
      "text/plain": "[<matplotlib.lines.Line2D at 0x1524dc050>]"
     },
     "execution_count": 87,
     "metadata": {},
     "output_type": "execute_result"
    },
    {
     "data": {
      "text/plain": "<Figure size 640x480 with 1 Axes>",
      "image/png": "[encoded data removed]"
     },
     "metadata": {},
     "output_type": "display_data"
    }
   ],
   "source": [
    "import matplotlib as mlp\n",
    "\n",
    "import matplotlib.pyplot as plt\n",
    "\n",
    "plt.plot(test_surrogate.x_list)\n",
    "\n"
   ],
   "metadata": {
    "collapsed": false,
    "ExecuteTime": {
     "end_time": "2024-08-23T08:41:06.271314Z",
     "start_time": "2024-08-23T08:41:06.199619Z"
    }
   },
   "id": "3e9bb70a8dfbeb18",
   "execution_count": 87
  },
  {
   "cell_type": "code",
   "outputs": [
    {
     "name": "stdout",
     "output_type": "stream",
     "text": [
      "tensor([[ 4.0121e-01, -9.3491e-01,  1.1828e-04,  6.2009e-05, -1.0750e+00,\n",
      "          4.9264e-01],\n",
      "        [ 2.1851e-01,  1.0139e+00,  1.1828e-04,  6.2009e-05, -7.3770e-01,\n",
      "          4.9264e-01],\n",
      "        [-1.4461e+00, -7.6127e-01,  7.3988e-01,  3.8949e-01,  6.2319e-01,\n",
      "          4.9264e-01],\n",
      "        ...,\n",
      "        [ 1.1750e+00,  9.2269e-01,  1.1828e-04,  6.2009e-05,  1.1548e-01,\n",
      "          4.9264e-01],\n",
      "        [ 8.3778e-01, -1.3108e-01,  1.1828e-04,  6.2009e-05, -1.0115e+00,\n",
      "          4.9264e-01],\n",
      "        [-1.6759e+00, -7.0090e-01,  1.1828e-04,  6.2009e-05,  7.6451e-01,\n",
      "          4.9264e-01]])\n"
     ]
    }
   ],
   "source": [
    "import numpy as np\n",
    "import torch\n",
    "import pickle\n",
    "\n",
    "surr_length = 0.5\n",
    "current = 9.7\n",
    "\n",
    "in_mean = [5.361699624411882e-06, 2.8099847552459577e-06, -103.46455517652929, -54.22419067092724, 31384166.415799182, 7.5488486842097995]\n",
    "\n",
    "out_mean = [1.2208464887686063e-06, 6.857339420669208e-06, 88.5449769771143, 580.5235916625553]\n",
    "\n",
    "in_std = [0.013987608190429593, 0.01398283932581212, 874752.0124925484, 874453.7368016029, 10528205.536358843, 4.366550900490813]\n",
    "\n",
    "out_std = [0.02555778670122864, 0.025553795813075042, 2215196.2727785874, 2214642.635136461]\n",
    "\n",
    "test_beam = np.load(\"Archive/LIGHTbeams/Trial1/training/shards/11000000p_0.npy\")\n",
    "\n",
    "\n",
    "class TransverseParticleDataset(torch.utils.data.Dataset):\n",
    "\n",
    "    def __init__(self, beam):\n",
    "\n",
    "        in_mean = [5.361699624411882e-06, 2.8099847552459577e-06, -103.46455517652929, -54.22419067092724, 31384166.415799182, 7.5488486842097995]\n",
    "\n",
    "        in_std = [0.013987608190429593, 0.01398283932581212, 874752.0124925484, 874453.7368016029, 10528205.536358843, 4.366550900490813]\n",
    "\n",
    "        x_vector = (beam[:, 0,0] - in_mean[0]) / in_std[0]\n",
    "        y_vector = (beam[:, 1,0] - in_mean[1]) / in_std[1]\n",
    "        z_vector = beam[:, 2,0]\n",
    "        v_x_vector = (beam[:, 3,0] - in_mean[2]) / in_std[2]\n",
    "        v_y_vector = (beam[:, 4,0] - in_mean[3]) / in_std[3]\n",
    "        v_z_vector = (beam[:, 5,0] - in_mean[4]) / in_std[4]\n",
    "        current_temp = (current - in_mean[5]) / in_std[5]\n",
    "        current_in = np.ones(len(x_vector)) * current_temp\n",
    "        self.input_tensor = np.array([x_vector, y_vector, v_x_vector, v_y_vector, v_z_vector, current_in])\n",
    "\n",
    "    def __getitem__(self, idx):\n",
    "\n",
    "        in_particle = torch.from_numpy(self.input_tensor[:, idx])\n",
    "\n",
    "        return in_particle.float()\n",
    "\n",
    "    def __len__(self):\n",
    "        return len(self.input_tensor[0])\n",
    "    \n",
    "    \n",
    "\n",
    "input_data = TransverseParticleDataset(test_beam)\n",
    "input_dataloader = torch.utils.data.DataLoader(input_data, batch_size=500, shuffle=False)\n",
    "\n",
    "data_iter = iter(input_dataloader)\n",
    "input_batch = next(data_iter)\n",
    "input_batch.requires_grad_(False)\n",
    "\n",
    "file = open(\"Archive/pickles/models/model_009_ep81_cpu.pickle\", \"rb\")\n",
    "model = pickle.load(file)\n",
    "file.close()\n",
    "model.requires_grad_(False)\n",
    "print(input_batch)"
   ],
   "metadata": {
    "collapsed": false,
    "ExecuteTime": {
     "end_time": "2024-08-23T16:17:21.807126Z",
     "start_time": "2024-08-23T16:17:20.261682Z"
    }
   },
   "id": "38599ff6d0a6de61",
   "execution_count": 35
  },
  {
   "cell_type": "code",
   "outputs": [
    {
     "name": "stdout",
     "output_type": "stream",
     "text": [
      "1589\n"
     ]
    }
   ],
   "source": [
    "import numpy as np\n",
    "import torch\n",
    "import pickle\n",
    "\n",
    "surr_length = 0.5\n",
    "current = 9.5\n",
    "\n",
    "in_mean = [5.361699624411882e-06, 2.8099847552459577e-06, -103.46455517652929, -54.22419067092724, 31384166.415799182, 7.5488486842097995]\n",
    "\n",
    "out_mean = [1.2208464887686063e-06, 6.857339420669208e-06, 88.5449769771143, 580.5235916625553]\n",
    "\n",
    "in_std = [0.013987608190429593, 0.01398283932581212, 874752.0124925484, 874453.7368016029, 10528205.536358843, 4.366550900490813]\n",
    "\n",
    "out_std = [0.02555778670122864, 0.025553795813075042, 2215196.2727785874, 2214642.635136461]\n",
    "\n",
    "\n",
    "test_beam = np.load(\"Archive/optimization/5000p2_22mev140mrad10_76kA_training_h2.npy\")\n",
    "\n",
    "class TransverseParticleDataset(torch.utils.data.Dataset):\n",
    "\n",
    "    def __init__(self, beam):\n",
    "\n",
    "        in_mean = [5.361699624411882e-06, 2.8099847552459577e-06, -103.46455517652929, -54.22419067092724, 31384166.415799182, 7.5488486842097995]\n",
    "\n",
    "        in_std = [0.013987608190429593, 0.01398283932581212, 874752.0124925484, 874453.7368016029, 10528205.536358843, 4.366550900490813]\n",
    "\n",
    "        x_vector = (beam[:, 0,0] - in_mean[0]) / in_std[0]\n",
    "        y_vector = (beam[:, 1,0] - in_mean[1]) / in_std[1]\n",
    "        z_vector = beam[:, 2,0]\n",
    "        v_x_vector = (beam[:, 3,0] - in_mean[2]) / in_std[2]\n",
    "        v_y_vector = (beam[:, 4,0] - in_mean[3]) / in_std[3]\n",
    "        v_z_vector = (beam[:, 5,0] - in_mean[4]) / in_std[4]\n",
    "        current_in = ((np.ones(len(x_vector)) * current) - in_mean[5]) / in_std[5]\n",
    "        self.input_tensor = np.array([x_vector, y_vector, v_x_vector, v_y_vector, v_z_vector, current_in])\n",
    "        \n",
    "    def __getitem__(self, idx):\n",
    "\n",
    "        in_particle = torch.from_numpy(self.input_tensor[:, idx])\n",
    "\n",
    "        return in_particle.float()\n",
    "\n",
    "    def __len__(self):\n",
    "        return len(self.input_tensor[0])\n",
    "    \n",
    "    \n",
    "\n",
    "input_data = TransverseParticleDataset(test_beam)\n",
    "input_dataloader = torch.utils.data.DataLoader(input_data, batch_size=5000, shuffle=False)\n",
    "\n",
    "data_iter = iter(input_dataloader)\n",
    "input_batch = next(data_iter)\n",
    "input_batch.requires_grad_(False)\n",
    "\n",
    "file = open(\"Archive/pickles/models/model_009_ep81_cpu.pickle\", \"rb\")\n",
    "model = pickle.load(file)\n",
    "file.close()\n",
    "model.requires_grad_(False)\n",
    "out_tensor = model(input_batch) \n",
    "\n",
    "numpy_output = out_tensor.detach().numpy()\n",
    "\n",
    "filtered_numpy_output = np.array([numpy_output[0]])\n",
    "\n",
    "v_z_vector_temp = input_batch[:, 4].detach().numpy()\n",
    "\n",
    "v_z_filtered = np.array([v_z_vector_temp[0]])\n",
    "\n",
    "for count, particle in enumerate(numpy_output):\n",
    "    \n",
    "    if np.sqrt(particle[0]**2 + particle[1]**2) < np.sqrt(1):\n",
    "        filtered_numpy_output = np.append(filtered_numpy_output, [particle], axis=0)\n",
    "        v_z_filtered = np.append(v_z_filtered, v_z_vector_temp[count])\n",
    "    else:\n",
    "        pass  \n",
    "    \n",
    "print(len(filtered_numpy_output))\n",
    "\n",
    "#hier\n",
    "out_tensor = filtered_numpy_output\n",
    "\n",
    "#print(input_batch.detach().numpy()[:,4])\n",
    "\n",
    "x_vector_out = out_tensor[:, 0]*out_std[0] + out_mean[0]\n",
    "y_vector_out = out_tensor[:, 1]*out_std[1] + out_mean[1]\n",
    "#z_vector_out = torch.ones(len(x_vector), requires_grad=True) * surr_length + z_vector.clone()\n",
    "v_x_vector_out = out_tensor[:, 2]*out_std[2] + out_mean[2]\n",
    "#print(torch.mean(v_x_vector_out))\n",
    "v_y_vector_out = out_tensor[:, 3]*out_std[3] + out_mean[3]\n",
    "#print(torch.mean(v_y_vector_out))\n",
    "#v_z_vector_out = input_batch[:, 4].detach().numpy() * in_std[4] + in_mean[4]\n",
    "v_z_vector_out = v_z_filtered * in_std[4] + in_mean[4]\n",
    "\n",
    "x_temp_out = x_vector_out\n",
    "\n",
    "\n",
    "tof = 1 / (v_z_vector_out / (1 / 10000))\n",
    "delta_x = tof * v_x_vector_out\n",
    "delta_y = tof * v_y_vector_out\n",
    "\n",
    "#for indx in range(1000):\n",
    "#    print(x_temp_out[indx], delta_x[indx])\n",
    "\n",
    "x_list = []\n",
    "\n",
    "for indx in range(10000):\n",
    "    \n",
    "    #print(np.sqrt(np.mean(x_temp_out**2)))\n",
    "    x_temp_out += delta_x\n",
    "    x_list.append(np.sqrt(np.mean(x_temp_out**2)))\n",
    "\n",
    "\n"
   ],
   "metadata": {
    "collapsed": false,
    "ExecuteTime": {
     "end_time": "2024-08-23T18:42:31.983567Z",
     "start_time": "2024-08-23T18:42:31.478345Z"
    }
   },
   "id": "40b81b6c70c101e8",
   "execution_count": 510
  },
  {
   "cell_type": "code",
   "outputs": [
    {
     "data": {
      "text/plain": "[<matplotlib.lines.Line2D at 0x177ce54d0>]"
     },
     "execution_count": 511,
     "metadata": {},
     "output_type": "execute_result"
    },
    {
     "data": {
      "text/plain": "<Figure size 640x480 with 1 Axes>",
      "image/png": "[encoded data removed]"
     },
     "metadata": {},
     "output_type": "display_data"
    }
   ],
   "source": [
    "import matplotlib.pyplot as plt\n",
    "\n",
    "plt.plot(x_list)"
   ],
   "metadata": {
    "collapsed": false,
    "ExecuteTime": {
     "end_time": "2024-08-23T18:42:32.454323Z",
     "start_time": "2024-08-23T18:42:32.392955Z"
    }
   },
   "id": "b50d8f01f9e405af",
   "execution_count": 511
  },
  {
   "cell_type": "code",
   "outputs": [
    {
     "name": "stdout",
     "output_type": "stream",
     "text": [
      "tensor([-3.8332e-04, -2.0096e-04,  3.1890e+00, -2.7946e+00,  9.5629e-01,\n",
      "         4.4684e-01])\n",
      "tensor([[-2.0890,  2.1920, -1.3232,  1.7643],\n",
      "        [ 1.9197,  2.1422,  1.3141,  1.2408],\n",
      "        [-0.2211, -1.2384, -0.1703, -1.3008],\n",
      "        ...,\n",
      "        [-1.1144, -1.2173, -0.9175, -0.6690],\n",
      "        [ 1.8297,  0.1072,  1.4646,  0.1947],\n",
      "        [ 0.2522, -1.1518,  0.3023, -0.7052]], grad_fn=<AddmmBackward0>)\n"
     ]
    },
    {
     "ename": "ValueError",
     "evalue": "operands could not be broadcast together with shapes (1000,55) (1000,) ",
     "output_type": "error",
     "traceback": [
      "\u001B[0;31m---------------------------------------------------------------------------\u001B[0m",
      "\u001B[0;31mValueError\u001B[0m                                Traceback (most recent call last)",
      "Cell \u001B[0;32mIn[41], line 100\u001B[0m\n\u001B[1;32m     96\u001B[0m y_temp_out \u001B[38;5;241m=\u001B[39m y_vector_out\u001B[38;5;241m.\u001B[39mdetach()\u001B[38;5;241m.\u001B[39mnumpy()\n\u001B[1;32m     99\u001B[0m tof \u001B[38;5;241m=\u001B[39m \u001B[38;5;241m1\u001B[39m \u001B[38;5;241m/\u001B[39m (test_beam[:, \u001B[38;5;241m5\u001B[39m] \u001B[38;5;241m/\u001B[39m (\u001B[38;5;241m1\u001B[39m \u001B[38;5;241m/\u001B[39m \u001B[38;5;241m1000\u001B[39m))\n\u001B[0;32m--> 100\u001B[0m delta_x \u001B[38;5;241m=\u001B[39m \u001B[43mtof\u001B[49m\u001B[43m \u001B[49m\u001B[38;5;241;43m*\u001B[39;49m\u001B[43m \u001B[49m\u001B[43mv_x_vector_out\u001B[49m\n\u001B[1;32m    101\u001B[0m delta_y \u001B[38;5;241m=\u001B[39m tof \u001B[38;5;241m*\u001B[39m v_y_vector_out\n\u001B[1;32m    105\u001B[0m \u001B[38;5;28;01mfor\u001B[39;00m indx \u001B[38;5;129;01min\u001B[39;00m \u001B[38;5;28mrange\u001B[39m(\u001B[38;5;241m1000\u001B[39m):\n\u001B[1;32m    106\u001B[0m     \n\u001B[1;32m    107\u001B[0m     \u001B[38;5;66;03m#print(np.sqrt(np.mean(x_temp_out**2)))\u001B[39;00m\n",
      "\u001B[0;31mValueError\u001B[0m: operands could not be broadcast together with shapes (1000,55) (1000,) "
     ]
    }
   ],
   "source": [
    "import numpy as np\n",
    "import torch\n",
    "import pickle\n",
    "\n",
    "surr_length = 0.5\n",
    "current = 9.5\n",
    "\n",
    "test_beam = np.load(\"Archive/optimization/1000p2_22mev140mrad12kA_optimization.npy\")\n",
    "#[:, :6, 0]\n",
    "\n",
    "file = open(\"Archive/pickles/models/model_009_ep81_cpu.pickle\", \"rb\")\n",
    "model = pickle.load(file)\n",
    "file.close()\n",
    "model.requires_grad_(False)\n",
    "\n",
    "x_list = []\n",
    "y_list = []\n",
    "\n",
    "class TransverseParticleDataset(torch.utils.data.Dataset):\n",
    "\n",
    "    def __init__(self, beam):\n",
    "\n",
    "        in_mean = [5.361699624411882e-06, 2.8099847552459577e-06, -103.46455517652929, -54.22419067092724, 31384166.415799182, 7.5488486842097995]\n",
    "\n",
    "        in_std = [0.013987608190429593, 0.01398283932581212, 874752.0124925484, 874453.7368016029, 10528205.536358843, 4.366550900490813]\n",
    "\n",
    "        x_vector = (beam[:, 0,0] - in_mean[0]) / in_std[0]\n",
    "        y_vector = (beam[:, 1,0] - in_mean[1]) / in_std[1]\n",
    "        z_vector = beam[:, 2,0]\n",
    "        v_x_vector = (beam[:, 3,0] - in_mean[2]) / in_std[2]\n",
    "        v_y_vector = (beam[:, 4,0] - in_mean[3]) / in_std[3]\n",
    "        v_z_vector = (beam[:, 5,0] - in_mean[4]) / in_std[4]\n",
    "        current_temp = (current - in_mean[5]) / in_std[5]\n",
    "        current_in = np.ones(len(x_vector)) * current_temp\n",
    "        self.input_tensor = np.array([x_vector, y_vector, v_x_vector, v_y_vector, v_z_vector, current_in])\n",
    "\n",
    "    def __getitem__(self, idx):\n",
    "\n",
    "        in_particle = torch.from_numpy(self.input_tensor[:, idx])\n",
    "\n",
    "        return in_particle.float()\n",
    "\n",
    "    def __len__(self):\n",
    "        return len(self.input_tensor[0])\n",
    "    \n",
    "    \n",
    "\n",
    "input_data = TransverseParticleDataset(test_beam)\n",
    "input_dataloader = torch.utils.data.DataLoader(input_data, batch_size=1000, shuffle=False)\n",
    "\n",
    "print(input_data.__getitem__(2))\n",
    "\n",
    "\n",
    "in_mean = [5.361699624411882e-06,\n",
    "                        2.8099847552459577e-06,\n",
    "                        -103.46455517652929,\n",
    "                        -54.22419067092724,\n",
    "                        31384166.415799182,\n",
    "                        7.5488486842097995]\n",
    "\n",
    "out_mean = [1.2208464887686063e-06,\n",
    "                         6.857339420669208e-06,\n",
    "                         88.5449769771143,\n",
    "                         580.5235916625553]\n",
    "\n",
    "in_std = [0.013987608190429593,\n",
    "                       0.01398283932581212,\n",
    "                       874752.0124925484,\n",
    "                       874453.7368016029,\n",
    "                       10528205.536358843,\n",
    "                       4.366550900490813]\n",
    "\n",
    "out_std = [0.02555778670122864,\n",
    "                        0.025553795813075042,\n",
    "                        2215196.2727785874,\n",
    "                        2214642.635136461]\n",
    "        \n",
    "    \n",
    "data_iter = iter(input_dataloader)\n",
    "input_batch = next(data_iter)\n",
    "input_batch.requires_grad_(True)\n",
    "\n",
    "out_tensor = model(input_batch) \n",
    "\n",
    "print(out_tensor)\n",
    "\n",
    "\n",
    "x_vector_out = out_tensor[:, 0].detach().clone()*out_std[0] + out_mean[0]\n",
    "y_vector_out = out_tensor[:, 1].clone()*out_std[1] + out_mean[1]\n",
    "#z_vector_out = torch.ones(len(x_vector), requires_grad=True) * surr_length + z_vector.clone()\n",
    "v_x_vector_out = out_tensor[:, 2].detach().numpy()*out_std[2] + out_mean[2]\n",
    "v_y_vector_out = out_tensor[:, 3].detach().numpy()*out_std[3] + out_mean[3]\n",
    "v_z_vector_out = test_beam[:, 5]\n",
    "\n",
    "x_temp_out = x_vector_out.detach().numpy()\n",
    "y_temp_out = y_vector_out.detach().numpy()\n",
    "\n",
    "\n",
    "tof = 1 / (test_beam[:, 5] / (1 / 1000))\n",
    "delta_x = tof * v_x_vector_out\n",
    "delta_y = tof * v_y_vector_out\n",
    "\n",
    "\n",
    "\n",
    "for indx in range(1000):\n",
    "    \n",
    "    #print(np.sqrt(np.mean(x_temp_out**2)))\n",
    "    x_temp_out += delta_x\n",
    "    y_temp_out += delta_y\n",
    "    x_list.append(np.sqrt(np.mean(x_temp_out**2)))\n",
    "    y_list.append(np.sqrt(np.mean(y_temp_out**2)))\n",
    "    \n",
    "\n",
    "    \n",
    "    "
   ],
   "metadata": {
    "collapsed": false,
    "ExecuteTime": {
     "end_time": "2024-08-23T14:23:44.330455Z",
     "start_time": "2024-08-23T14:23:44.221542Z"
    }
   },
   "id": "bf60188e30006db9",
   "execution_count": 41
  },
  {
   "cell_type": "code",
   "outputs": [
    {
     "data": {
      "text/plain": "[<matplotlib.lines.Line2D at 0x14a815750>]"
     },
     "execution_count": 35,
     "metadata": {},
     "output_type": "execute_result"
    },
    {
     "data": {
      "text/plain": "<Figure size 640x480 with 1 Axes>",
      "image/png": "[encoded data removed]"
     },
     "metadata": {},
     "output_type": "display_data"
    }
   ],
   "source": [
    "import matplotlib.pyplot as plt\n",
    "\n",
    "plt.plot(x_list)\n",
    "\n",
    "#print(max(x_list))"
   ],
   "metadata": {
    "collapsed": false,
    "ExecuteTime": {
     "end_time": "2024-08-23T14:18:19.187478Z",
     "start_time": "2024-08-23T14:18:19.140007Z"
    }
   },
   "id": "cb131b3355c17f4f",
   "execution_count": 35
  },
  {
   "cell_type": "code",
   "outputs": [
    {
     "data": {
      "text/plain": "[<matplotlib.lines.Line2D at 0x149a77b90>]"
     },
     "execution_count": 23,
     "metadata": {},
     "output_type": "execute_result"
    },
    {
     "data": {
      "text/plain": "<Figure size 640x480 with 1 Axes>",
      "image/png": "[encoded data removed]"
     },
     "metadata": {},
     "output_type": "display_data"
    }
   ],
   "source": [
    "plt.plot(y_list)"
   ],
   "metadata": {
    "collapsed": false,
    "ExecuteTime": {
     "end_time": "2024-08-23T14:10:43.838607Z",
     "start_time": "2024-08-23T14:10:43.783913Z"
    }
   },
   "id": "47a47f18b7bc0267",
   "execution_count": 23
  },
  {
   "cell_type": "code",
   "outputs": [
    {
     "name": "stdout",
     "output_type": "stream",
     "text": [
      "tensor([[0, 1, 2],\n",
      "        [6, 7, 8]])\n",
      "tensor([[-0.7568,  0.4121]])\n",
      "tensor([[5, 0]])\n",
      "tensor([[ 0.0000,  1.0000,  2.0000, -0.7568,  5.0000],\n",
      "        [ 6.0000,  7.0000,  8.0000,  0.4121,  0.0000]])\n"
     ]
    }
   ],
   "source": [
    "\n",
    "test_tensor_0 = torch.tensor([0, 1, 2, 4, 5])\n",
    "test_tensor_1 = torch.tensor([6, 7, 8, 9, 0])\n",
    "\n",
    "test_tensor_2 = torch.stack([test_tensor_0, test_tensor_1])\n",
    "\n",
    "test_tensor_3 = test_tensor_2[:,3]\n",
    "\n",
    "test_tensor_4 = torch.sin(test_tensor_3)\n",
    "\n",
    "\n",
    "test_tensor_5 = torch.cat([test_tensor_2[:, :3], torch.transpose(torch.unsqueeze(test_tensor_4, 0),0,1), \n",
    "                           torch.transpose(torch.unsqueeze(test_tensor_2[:,4],0), 0, 1)],1)\n",
    "\n",
    "print(test_tensor_5)\n"
   ],
   "metadata": {
    "collapsed": false,
    "ExecuteTime": {
     "end_time": "2024-08-27T08:54:21.405154Z",
     "start_time": "2024-08-27T08:54:21.337164Z"
    }
   },
   "id": "1eff0292d706a9eb",
   "execution_count": 526
  },
  {
   "cell_type": "code",
   "outputs": [],
   "source": [],
   "metadata": {
    "collapsed": false
   },
   "id": "ae1bf802c51f278c"
  }
 ],
 "metadata": {
  "kernelspec": {
   "display_name": "Python 3",
   "language": "python",
   "name": "python3"
  },
  "language_info": {
   "codemirror_mode": {
    "name": "ipython",
    "version": 2
   },
   "file_extension": ".py",
   "mimetype": "text/x-python",
   "name": "python",
   "nbconvert_exporter": "python",
   "pygments_lexer": "ipython2",
   "version": "2.7.6"
  }
 },
 "nbformat": 4,
 "nbformat_minor": 5
}
