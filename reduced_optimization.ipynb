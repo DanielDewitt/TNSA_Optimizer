{
 "cells": [
  {
   "cell_type": "code",
   "execution_count": 3,
   "id": "initial_id",
   "metadata": {
    "collapsed": true,
    "ExecuteTime": {
     "end_time": "2024-05-14T15:03:26.410784Z",
     "start_time": "2024-05-14T15:03:24.185837Z"
    }
   },
   "outputs": [],
   "source": [
    "%load_ext autoreload\n",
    "%autoreload 2\n",
    "import CMethods\n",
    "import torch\n",
    "import elements\n",
    "import matplotlib.pyplot as plt\n",
    "import numpy as np\n",
    "import scipy as sp\n",
    "\n",
    "\n",
    "\n",
    "\n",
    "\n",
    "\n"
   ]
  },
  {
   "cell_type": "code",
   "outputs": [
    {
     "name": "stdout",
     "output_type": "stream",
     "text": [
      "tensor([-4.1014e-05, -1.8698e-01, -1.2264e-05, -5.5894e-02,  0.0000e+00,\n",
      "        -8.0249e-02], dtype=torch.float64, grad_fn=<SelectBackward0>)\n",
      "True\n"
     ]
    }
   ],
   "source": [
    "input_distribution = CMethods.astra_file_to_ttm(\"test_plasma_file_protons.part\", 10, \"proton\") #create input tensor from particle distribution file\n",
    "\n",
    "print(input_distribution[0])\n",
    "print(input_distribution.requires_grad)\n",
    "\n"
   ],
   "metadata": {
    "collapsed": false,
    "ExecuteTime": {
     "end_time": "2024-05-14T15:03:26.432335Z",
     "start_time": "2024-05-14T15:03:26.411588Z"
    }
   },
   "id": "1f501fd6107b014e",
   "execution_count": 4
  },
  {
   "cell_type": "code",
   "outputs": [],
   "source": [
    "\n",
    "\n",
    "def track(n, param, n_length, input_dist):\n",
    "    \n",
    "    q = torch.tensor(sp.constants.elementary_charge)\n",
    "    beta_s = torch.tensor(CMethods.beta(10, \"proton\"))\n",
    "    gamma_s = CMethods.beta_to_gamma(beta_s)\n",
    "    p_s = CMethods.beta_to_p(beta_s, \"proton\")\n",
    "    print(p_s.requires_grad)\n",
    "\n",
    "    r = torch.zeros([6, 6], dtype=torch.float64)\n",
    "\n",
    "    k_0 = torch.mul(q, torch.tensor(param))\n",
    "    k_1 = torch.mul(p_s, 2)\n",
    "    k = torch.div(k_0, k_1)\n",
    "    k_sq = torch.square(k)\n",
    "    k_l = torch.mul(k,n_length)\n",
    "\n",
    "    k_sq_l = torch.mul(k_sq,n_length)\n",
    "    c = torch.cos(k_l)\n",
    "    c_2 = torch.cos(torch.mul(2, k_l))\n",
    "    s = torch.sin(k_l)\n",
    "    s_2 = torch.sin(torch.mul(2, k_l))\n",
    "    c_sq = torch.square(c)\n",
    "    s_sq = torch.square(s)\n",
    "    sc = torch.mul(s, c)\n",
    "    beta_s_sq = torch.square(beta_s)\n",
    "    double_beta_s = torch.mul(2, beta_s)\n",
    "    double_beta_s_sq = torch.mul(2, beta_s_sq)\n",
    "    gamma_s_sq = torch.square(gamma_s)\n",
    "\n",
    "    k_l_div_double_beta = torch.div(k_l, double_beta_s)\n",
    "    k_l_div_beta = torch.div(k_l, beta_s)\n",
    "    k_sq_l_div_double_beta = torch.div(k_sq_l, double_beta_s)\n",
    "    l_div_double_beta = torch.div(n_length, double_beta_s)\n",
    "\n",
    "    r = r.clone()\n",
    "    r[0, 0] = c_sq\n",
    "    r[0, 1] = torch.div(sc, k)\n",
    "    r[0, 2] = sc\n",
    "    r[0, 3] = torch.div(s_sq, k)\n",
    "\n",
    "    r[1, 0] = torch.mul(-k, sc)\n",
    "    r[1, 1] = c_sq\n",
    "    r[1, 2] = torch.mul(-k, s_sq)\n",
    "    r[1, 3] = sc\n",
    "\n",
    "    r[2, 0] = -sc\n",
    "    r[2, 1] = torch.div(-s_sq, k)\n",
    "    r[2, 2] = c_sq\n",
    "    r[2, 3] = torch.div(sc, k)\n",
    "\n",
    "    r[3, 0] = torch.mul(k, s_sq)\n",
    "    r[3, 1] = -sc\n",
    "    r[3, 2] = torch.mul(-k, sc)\n",
    "    r[3, 3] = c_sq\n",
    "\n",
    "    r[4, 4] = 1\n",
    "    r[4, 5] = torch.div(n_length, torch.mul(beta_s_sq, gamma_s_sq))\n",
    "\n",
    "    r[5, 5] = 1\n",
    "\n",
    "    working_dist = input_dist.clone()\n",
    "    output_dist = working_dist.clone()\n",
    "    \n",
    "    rms_out = torch.empty(0, requires_grad=True)\n",
    "    \n",
    "    for i in range(n):\n",
    "\n",
    "        output_bunch = torch.einsum('ik,jk->ji', [r, working_dist])\n",
    "        working_dist = output_dist.clone()\n",
    "        rms_out = torch.cat([rms_out, torch.std(output_bunch[:, 0]).unsqueeze(0)])\n",
    "\n",
    "    return rms_out[-1]\n",
    "    \n",
    "    \n"
   ],
   "metadata": {
    "collapsed": false,
    "ExecuteTime": {
     "end_time": "2024-05-16T15:35:26.292118Z",
     "start_time": "2024-05-16T15:35:26.049603Z"
    }
   },
   "id": "172dc46c0d501801",
   "execution_count": 14
  },
  {
   "cell_type": "code",
   "outputs": [],
   "source": [
    "class DanielsOptimizer(torch.nn.Module):\n",
    "\n",
    "    def __init__(self, para):\n",
    "        super().__init__()\n",
    "        # register set of parameter:\n",
    "        self.register_parameter('para',torch.nn.Parameter(para, requires_grad=True))\n",
    "\n",
    "    def forward(self):\n",
    "        # create lattice given quad strengths in k_set:\n",
    "        input_temp = input_distribution.clone()\n",
    "        sigma = track(100, self.para[0], self.para[1], input_temp)\n",
    "        #sigma_x = torch.std(torch.tensor(sigma[0]))\n",
    "        #sigma_y = torch.std(torch.tensor(sigma[1]))\n",
    "\n",
    "        #sigma_target = torch.tensor(0.0001, dtype=torch.float64)# calculate and return loss function:\n",
    "        sigma_target = 0.001\n",
    "        dx = (sigma - sigma_target)\n",
    "        \n",
    "        #hier add zu sqrt\n",
    "        return torch.sqrt(torch.add(torch.square(dx), torch.square(dx)))\n",
    "\n",
    "\n",
    "\n",
    "def train_model(model, training_iter, alpha=0.1):\n",
    "    history_param = [None] * training_iter  # list to save params\n",
    "    history_loss = [None] * training_iter  # list to save loss\n",
    "\n",
    "    # print the trainable parameters\n",
    "    for param in model.named_parameters():\n",
    "        print(f'{param[0]} : {param[1]}')\n",
    "\n",
    "    # Use PyTorch Adam optimizer\n",
    "    optimizer = torch.optim.Adam(model.parameters(), alpha)\n",
    "\n",
    "    for i in range(training_iter):\n",
    "    \n",
    "        # Zero gradients from previous iteration\n",
    "        optimizer.zero_grad()\n",
    "        loss = model()  # loss is just O.F.\n",
    "        loss.backward()  # gradient#\n",
    "        optimizer.step()\n",
    "        \n",
    "        # print info:\n",
    "        if i % 10 == 0:  # print each 100 steps\n",
    "            print('Iter %d/%d - Loss: %.5f ' % (\n",
    "                i + 1, training_iter, loss\n",
    "            ))\n",
    "\n",
    "        # save loss and param\n",
    "        for param in model.parameters():\n",
    "            history_param[i] = param.data.detach().numpy().copy()\n",
    "        history_loss[i] = loss.detach().numpy().copy()\n",
    "\n",
    "        # optimization step\n",
    "        \n",
    "\n",
    "    # returns params and loss for every iteration\n",
    "    return np.asarray(history_param), np.asarray(history_loss)\n",
    "\n"
   ],
   "metadata": {
    "collapsed": false,
    "ExecuteTime": {
     "end_time": "2024-05-16T15:35:27.142436Z",
     "start_time": "2024-05-16T15:35:27.112398Z"
    }
   },
   "id": "df775ff918048c42",
   "execution_count": 15
  },
  {
   "cell_type": "code",
   "outputs": [
    {
     "name": "stdout",
     "output_type": "stream",
     "text": [
      "para : Parameter containing:\n",
      "tensor([5.0000, 0.3000], dtype=torch.float64, requires_grad=True)\n",
      "False\n",
      "Iter 1/100 - Loss: 0.04598 \n",
      "False\n",
      "False\n",
      "False\n",
      "False\n",
      "False\n",
      "False\n",
      "False\n",
      "False\n",
      "False\n",
      "False\n",
      "Iter 11/100 - Loss: 0.03019 \n",
      "False\n",
      "False\n",
      "False\n",
      "False\n",
      "False\n",
      "False\n",
      "False\n",
      "False\n"
     ]
    },
    {
     "name": "stderr",
     "output_type": "stream",
     "text": [
      "/var/folders/5y/_90vwzcx7wj7j56tcpjbgtz00000gn/T/ipykernel_27752/1072280642.py:11: UserWarning: To copy construct from a tensor, it is recommended to use sourceTensor.clone().detach() or sourceTensor.clone().detach().requires_grad_(True), rather than torch.tensor(sourceTensor).\n",
      "  k_0 = torch.mul(q, torch.tensor(param))\n"
     ]
    },
    {
     "name": "stdout",
     "output_type": "stream",
     "text": [
      "False\n",
      "False\n",
      "Iter 21/100 - Loss: 0.01441 \n",
      "False\n",
      "False\n",
      "False\n",
      "False\n",
      "False\n",
      "False\n",
      "False\n",
      "False\n",
      "False\n",
      "False\n",
      "Iter 31/100 - Loss: 0.00138 \n",
      "False\n",
      "False\n",
      "False\n",
      "False\n",
      "False\n",
      "False\n",
      "False\n",
      "False\n",
      "False\n",
      "False\n",
      "Iter 41/100 - Loss: 0.00297 \n",
      "False\n",
      "False\n",
      "False\n",
      "False\n",
      "False\n",
      "False\n",
      "False\n",
      "False\n",
      "False\n",
      "False\n",
      "Iter 51/100 - Loss: 0.00055 \n",
      "False\n",
      "False\n",
      "False\n",
      "False\n",
      "False\n",
      "False\n",
      "False\n",
      "False\n",
      "False\n",
      "False\n",
      "Iter 61/100 - Loss: 0.00085 \n",
      "False\n",
      "False\n",
      "False\n",
      "False\n",
      "False\n",
      "False\n",
      "False\n",
      "False\n",
      "False\n",
      "False\n",
      "Iter 71/100 - Loss: 0.00008 \n",
      "False\n",
      "False\n",
      "False\n",
      "False\n",
      "False\n",
      "False\n",
      "False\n",
      "False\n",
      "False\n",
      "False\n",
      "Iter 81/100 - Loss: 0.00019 \n",
      "False\n",
      "False\n",
      "False\n",
      "False\n",
      "False\n",
      "False\n",
      "False\n",
      "False\n",
      "False\n",
      "False\n",
      "Iter 91/100 - Loss: 0.00013 \n",
      "False\n",
      "False\n",
      "False\n",
      "False\n",
      "False\n",
      "False\n",
      "False\n",
      "False\n",
      "False\n"
     ]
    },
    {
     "data": {
      "text/plain": "[<matplotlib.lines.Line2D at 0x1664533d0>]"
     },
     "execution_count": 16,
     "metadata": {},
     "output_type": "execute_result"
    },
    {
     "data": {
      "text/plain": "<Figure size 640x480 with 1 Axes>",
      "image/png": "[encoded data removed]"
     },
     "metadata": {},
     "output_type": "display_data"
    }
   ],
   "source": [
    "#k_set = torch.zeros(4)\n",
    "k_set = torch.tensor([5, 0.3], requires_grad=True, dtype=torch.float64)\n",
    "\n",
    "# Optimization\n",
    "model = DanielsOptimizer(k_set)\n",
    "\n",
    "params, loss = train_model(model, 100, 0.01)\n",
    "\n",
    "plt.plot(loss)"
   ],
   "metadata": {
    "collapsed": false,
    "ExecuteTime": {
     "end_time": "2024-05-16T15:35:29.024012Z",
     "start_time": "2024-05-16T15:35:27.874012Z"
    }
   },
   "id": "3484214b366cdcdf",
   "execution_count": 16
  },
  {
   "cell_type": "code",
   "outputs": [
    {
     "ename": "NameError",
     "evalue": "name 'loss' is not defined",
     "output_type": "error",
     "traceback": [
      "\u001B[0;31m---------------------------------------------------------------------------\u001B[0m",
      "\u001B[0;31mNameError\u001B[0m                                 Traceback (most recent call last)",
      "Cell \u001B[0;32mIn[8], line 1\u001B[0m\n\u001B[0;32m----> 1\u001B[0m \u001B[38;5;28mprint\u001B[39m(\u001B[43mloss\u001B[49m)\n",
      "\u001B[0;31mNameError\u001B[0m: name 'loss' is not defined"
     ]
    }
   ],
   "source": [
    "print(loss)"
   ],
   "metadata": {
    "collapsed": false,
    "ExecuteTime": {
     "end_time": "2024-05-14T15:03:46.699916Z",
     "start_time": "2024-05-14T15:03:46.663193Z"
    }
   },
   "id": "48b084cfa6c56744",
   "execution_count": 8
  },
  {
   "cell_type": "code",
   "outputs": [],
   "source": [],
   "metadata": {
    "collapsed": false
   },
   "id": "96526817ad8c38be"
  }
 ],
 "metadata": {
  "kernelspec": {
   "display_name": "Python 3",
   "language": "python",
   "name": "python3"
  },
  "language_info": {
   "codemirror_mode": {
    "name": "ipython",
    "version": 2
   },
   "file_extension": ".py",
   "mimetype": "text/x-python",
   "name": "python",
   "nbconvert_exporter": "python",
   "pygments_lexer": "ipython2",
   "version": "2.7.6"
  }
 },
 "nbformat": 4,
 "nbformat_minor": 5
}
